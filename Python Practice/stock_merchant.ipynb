{
 "cells": [
  {
   "cell_type": "code",
   "execution_count": 74,
   "metadata": {},
   "outputs": [
    {
     "name": "stdout",
     "output_type": "stream",
     "text": [
      "5\n",
      "1 2 1 2 1\n",
      "[1, 2, 1, 1]\n",
      "\n"
     ]
    }
   ],
   "source": [
    "#!/bin/python3\n",
    "\n",
    "import math\n",
    "import os\n",
    "import random\n",
    "import re\n",
    "import sys\n",
    "\n",
    "# Complete the sockMerchant function below.\n",
    "def sockMerchant(n, ar):\n",
    "    \n",
    "    list1=[]\n",
    "    \n",
    "    count=0\n",
    "    for i in range(0,n):\n",
    "        count=0\n",
    "\n",
    "        for j in range(i+1,n):\n",
    "            if(ar[i]==ar[j]):\n",
    "                count=count+1\n",
    "                list1.append(count)\n",
    "\n",
    "                \n",
    "                \n",
    "    \n",
    "    return list1\n",
    "\n",
    "\n",
    "if __name__ == '__main__':\n",
    "    \n",
    "    n = int(input())\n",
    "\n",
    "    ar = list(map(int, input().rstrip().split()))\n",
    "\n",
    "    result = sockMerchant(n, ar)\n",
    "\n",
    "    print(str(result) + '\\n')\n",
    "\n"
   ]
  }
 ],
 "metadata": {
  "kernelspec": {
   "display_name": "Python 3",
   "language": "python",
   "name": "python3"
  },
  "language_info": {
   "codemirror_mode": {
    "name": "ipython",
    "version": 3
   },
   "file_extension": ".py",
   "mimetype": "text/x-python",
   "name": "python",
   "nbconvert_exporter": "python",
   "pygments_lexer": "ipython3",
   "version": "3.6.9"
  }
 },
 "nbformat": 4,
 "nbformat_minor": 2
}
